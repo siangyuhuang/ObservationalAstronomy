{
 "cells": [
  {
   "cell_type": "code",
   "execution_count": 1,
   "metadata": {},
   "outputs": [],
   "source": [
    "import numpy as np\n",
    "from astropy import coordinates, units\n",
    "import matplotlib.pyplot as plt\n",
    "%matplotlib inline"
   ]
  },
  {
   "cell_type": "code",
   "execution_count": 4,
   "metadata": {},
   "outputs": [],
   "source": [
    "from astroquery.gemini import Observations\n",
    "from astroquery.ned import Ned"
   ]
  },
  {
   "cell_type": "markdown",
   "metadata": {},
   "source": [
    "## Catalog"
   ]
  },
  {
   "cell_type": "code",
   "execution_count": 8,
   "metadata": {},
   "outputs": [
    {
     "data": {
      "text/html": [
       "<i>Table masked=True length=1</i>\n",
       "<table id=\"table4870939216\" class=\"table-striped table-bordered table-condensed\">\n",
       "<thead><tr><th>No.</th><th>Object Name</th><th>RA</th><th>DEC</th><th>Type</th><th>Velocity</th><th>Redshift</th><th>Redshift Flag</th><th>Magnitude and Filter</th><th>Separation</th><th>References</th><th>Notes</th><th>Photometry Points</th><th>Positions</th><th>Redshift Points</th><th>Diameter Points</th><th>Associations</th></tr></thead>\n",
       "<thead><tr><th></th><th></th><th>degrees</th><th>degrees</th><th></th><th>km / s</th><th></th><th></th><th></th><th>arcmin</th><th></th><th></th><th></th><th></th><th></th><th></th><th></th></tr></thead>\n",
       "<thead><tr><th>int32</th><th>bytes30</th><th>float64</th><th>float64</th><th>object</th><th>float64</th><th>float64</th><th>object</th><th>object</th><th>float64</th><th>int32</th><th>int32</th><th>int32</th><th>int32</th><th>int32</th><th>int32</th><th>int32</th></tr></thead>\n",
       "<tr><td>1</td><td>MESSIER 101</td><td>210.80227</td><td>54.34895</td><td>G</td><td>241.0</td><td>0.000804</td><td></td><td>8.31</td><td>--</td><td>1633</td><td>28</td><td>169</td><td>64</td><td>24</td><td>8</td><td>0</td></tr>\n",
       "</table>"
      ],
      "text/plain": [
       "<Table masked=True length=1>\n",
       " No.  Object Name     RA     ... Redshift Points Diameter Points Associations\n",
       "                   degrees   ...                                             \n",
       "int32   bytes30    float64   ...      int32           int32         int32    \n",
       "----- ----------- ---------- ... --------------- --------------- ------------\n",
       "    1 MESSIER 101  210.80227 ...              24               8            0"
      ]
     },
     "execution_count": 8,
     "metadata": {},
     "output_type": "execute_result"
    }
   ],
   "source": [
    "result_table = Ned.query_object('M101')\n",
    "result_table"
   ]
  },
  {
   "cell_type": "markdown",
   "metadata": {},
   "source": [
    "## Archive\n",
    "### query by position"
   ]
  },
  {
   "cell_type": "code",
   "execution_count": 9,
   "metadata": {},
   "outputs": [
    {
     "data": {
      "text/html": [
       "<i>Table masked=True length=5</i>\n",
       "<table id=\"table4872129552\" class=\"table-striped table-bordered table-condensed\">\n",
       "<thead><tr><th>exposure_time</th><th>detector_roi_setting</th><th>detector_welldepth_setting</th><th>telescope</th><th>mdready</th><th>requested_bg</th><th>engineering</th><th>cass_rotator_pa</th><th>ut_datetime</th><th>file_size</th><th>types</th><th>requested_wv</th><th>detector_readspeed_setting</th><th>size</th><th>laser_guide_star</th><th>observation_id</th><th>science_verification</th><th>raw_cc</th><th>filename</th><th>instrument</th><th>reduction</th><th>camera</th><th>ra</th><th>detector_binning</th><th>lastmod</th><th>wavelength_band</th><th>data_size</th><th>mode</th><th>raw_iq</th><th>airmass</th><th>elevation</th><th>data_label</th><th>requested_iq</th><th>object</th><th>requested_cc</th><th>program_id</th><th>file_md5</th><th>central_wavelength</th><th>raw_wv</th><th>compressed</th><th>filter_name</th><th>detector_gain_setting</th><th>path</th><th>observation_class</th><th>qa_state</th><th>observation_type</th><th>calibration_program</th><th>md5</th><th>adaptive_optics</th><th>name</th><th>focal_plane_mask</th><th>data_md5</th><th>raw_bg</th><th>disperser</th><th>wavefront_sensor</th><th>gcal_lamp</th><th>detector_readmode_setting</th><th>phot_standard</th><th>local_time</th><th>spectroscopy</th><th>azimuth</th><th>release</th><th>dec</th></tr></thead>\n",
       "<thead><tr><th>str32</th><th>str10</th><th>str7</th><th>str12</th><th>str5</th><th>str4</th><th>str5</th><th>str32</th><th>str26</th><th>str21</th><th>str118</th><th>str4</th><th>str4</th><th>str21</th><th>str5</th><th>str17</th><th>str5</th><th>str21</th><th>str30</th><th>str6</th><th>str8</th><th>str6</th><th>str32</th><th>str3</th><th>str32</th><th>str1</th><th>str21</th><th>str7</th><th>str21</th><th>str5</th><th>str32</th><th>str28</th><th>str4</th><th>str19</th><th>str4</th><th>str14</th><th>str32</th><th>str6</th><th>str21</th><th>str5</th><th>str9</th><th>str4</th><th>str1</th><th>str10</th><th>str6</th><th>str6</th><th>str5</th><th>str32</th><th>str5</th><th>str26</th><th>str14</th><th>str32</th><th>str21</th><th>str6</th><th>str5</th><th>str4</th><th>str17</th><th>str4</th><th>str15</th><th>str5</th><th>str32</th><th>str10</th><th>str32</th></tr></thead>\n",
       "<tr><td>119.9986</td><td>Full Frame</td><td>--</td><td>Gemini-North</td><td>True</td><td>--</td><td>False</td><td>215.018266041656</td><td>2007-02-21 15:49:30</td><td>15847270</td><td>{&apos;GMOS&apos;, &apos;GEMINI&apos;, &apos;NORTH&apos;, &apos;PREPARED&apos;, &apos;PROCESSED&apos;, &apos;IMAGE&apos;, &apos;PROCESSED_SCIENCE&apos;, &apos;SIDEREAL&apos;}</td><td>--</td><td>slow</td><td>15847270</td><td>False</td><td>GN-2007A-Q-72-1</td><td>False</td><td>70</td><td>mrgN20070221S0137_add.fits.bz2</td><td>GMOS-N</td><td>PREPARED</td><td>GMOS-N</td><td>210.800833400112</td><td>2x2</td><td>2020-01-18 11:14:56.455635+00:00</td><td>g</td><td>28667520</td><td>imaging</td><td>85</td><td>1.277</td><td>51.624877777778</td><td>GN-2007A-Q-72-1-001-MRG-ADD</td><td>--</td><td>M101-pos1</td><td>--</td><td>GN-2007A-Q-72</td><td>93349c5b14c3628341c823d820ae218b</td><td>--</td><td>100</td><td>True</td><td>g</td><td>low</td><td></td><td>science</td><td>Pass</td><td>OBJECT</td><td>False</td><td>93349c5b14c3628341c823d820ae218b</td><td>False</td><td>mrgN20070221S0137_add.fits</td><td>Imaging</td><td>5daf92f430a14a9629f775c39ed265f0</td><td>20</td><td>MIRROR</td><td>OIWFS</td><td>--</td><td>Classic</td><td>--</td><td>05:49:29</td><td>False</td><td>339.262593055556</td><td>2008-08-21</td><td>54.34877772501</td></tr>\n",
       "<tr><td>119.9983</td><td>Full Frame</td><td>--</td><td>Gemini-North</td><td>True</td><td>--</td><td>False</td><td>-129.062149738694</td><td>2007-03-25 14:32:38</td><td>17421777</td><td>{&apos;PROCESSED_SCIENCE&apos;, &apos;GEMINI&apos;, &apos;NORTH&apos;, &apos;IMAGE&apos;, &apos;PROCESSED&apos;, &apos;PREPARED&apos;, &apos;GMOS&apos;, &apos;SIDEREAL&apos;}</td><td>--</td><td>slow</td><td>17421777</td><td>False</td><td>GN-2007A-Q-72-2</td><td>False</td><td>50</td><td>mrgN20070325S0054_add.fits.bz2</td><td>GMOS-N</td><td>PREPARED</td><td>GMOS-N</td><td>210.880416785791</td><td>2x2</td><td>2020-01-18 09:54:01.345049+00:00</td><td>g</td><td>28667520</td><td>imaging</td><td>70</td><td>1.375</td><td>46.769701388889</td><td>GN-2007A-Q-72-2-001-MRG-ADD</td><td>--</td><td>M101-pos2</td><td>--</td><td>GN-2007A-Q-72</td><td>9396484dae3cf8ccebbaffd31b3b265d</td><td>--</td><td>50</td><td>True</td><td>g</td><td>low</td><td></td><td>science</td><td>Pass</td><td>OBJECT</td><td>False</td><td>9396484dae3cf8ccebbaffd31b3b265d</td><td>False</td><td>mrgN20070325S0054_add.fits</td><td>Imaging</td><td>7c12e166c2769c0f1861648e208be0a0</td><td>50</td><td>MIRROR</td><td>OIWFS</td><td>--</td><td>Classic</td><td>--</td><td>04:32:37.500000</td><td>False</td><td>-28.659855555556</td><td>2008-09-25</td><td>54.376194395654</td></tr>\n",
       "<tr><td>119.9986</td><td>Full Frame</td><td>--</td><td>Gemini-North</td><td>True</td><td>--</td><td>False</td><td>-126.603997826842</td><td>2007-03-25 14:40:23.500000</td><td>17176211</td><td>{&apos;PROCESSED&apos;, &apos;IMAGE&apos;, &apos;GMOS&apos;, &apos;SIDEREAL&apos;, &apos;PROCESSED_SCIENCE&apos;, &apos;NORTH&apos;, &apos;PREPARED&apos;, &apos;GEMINI&apos;}</td><td>--</td><td>slow</td><td>17176211</td><td>False</td><td>GN-2007A-Q-72-3</td><td>False</td><td>50</td><td>mrgN20070325S0056_add.fits.bz2</td><td>GMOS-N</td><td>PREPARED</td><td>GMOS-N</td><td>210.761666814345</td><td>2x2</td><td>2020-01-18 09:53:58.875069+00:00</td><td>g</td><td>28667520</td><td>imaging</td><td>70</td><td>1.397</td><td>45.827486111111</td><td>GN-2007A-Q-72-3-001-MRG-ADD</td><td>--</td><td>M101-pos3</td><td>--</td><td>GN-2007A-Q-72</td><td>fd5f031e6b382c1c2c84e17f6027aa46</td><td>--</td><td>50</td><td>True</td><td>g</td><td>low</td><td></td><td>science</td><td>Pass</td><td>OBJECT</td><td>False</td><td>fd5f031e6b382c1c2c84e17f6027aa46</td><td>False</td><td>mrgN20070325S0056_add.fits</td><td>Imaging</td><td>059fbda013b48ef29e5639769ff79008</td><td>50</td><td>MIRROR</td><td>OIWFS</td><td>--</td><td>Classic</td><td>--</td><td>04:40:22.500000</td><td>False</td><td>-29.740595833333</td><td>2008-09-25</td><td>54.366916626746</td></tr>\n",
       "<tr><td>119.9983</td><td>Full Frame</td><td>--</td><td>Gemini-North</td><td>True</td><td>--</td><td>False</td><td>-213.922110693539</td><td>2007-03-25 14:49:59.500000</td><td>16720893</td><td>{&apos;PROCESSED_SCIENCE&apos;, &apos;GEMINI&apos;, &apos;NORTH&apos;, &apos;IMAGE&apos;, &apos;PROCESSED&apos;, &apos;PREPARED&apos;, &apos;GMOS&apos;, &apos;SIDEREAL&apos;}</td><td>--</td><td>slow</td><td>16720893</td><td>False</td><td>GN-2007A-Q-72-4</td><td>False</td><td>50</td><td>mrgN20070325S0059_add.fits.bz2</td><td>GMOS-N</td><td>PREPARED</td><td>GMOS-N</td><td>210.900000582205</td><td>2x2</td><td>2020-01-18 09:53:56.273089+00:00</td><td>g</td><td>28667520</td><td>imaging</td><td>70</td><td>1.422</td><td>44.801861111111</td><td>GN-2007A-Q-72-4-002-MRG-ADD</td><td>--</td><td>M101-pos4</td><td>--</td><td>GN-2007A-Q-72</td><td>4d13ba5358e97847cc4f5c99a67e9b89</td><td>--</td><td>50</td><td>True</td><td>g</td><td>low</td><td></td><td>science</td><td>Pass</td><td>OBJECT</td><td>False</td><td>4d13ba5358e97847cc4f5c99a67e9b89</td><td>False</td><td>mrgN20070325S0059_add.fits</td><td>Imaging</td><td>c309a9124a6f8268a92697faf96eeff5</td><td>50</td><td>MIRROR</td><td>OIWFS</td><td>--</td><td>Classic</td><td>--</td><td>04:49:58.500000</td><td>False</td><td>-30.936501388889</td><td>2008-09-25</td><td>54.274527402457</td></tr>\n",
       "<tr><td>99.9983</td><td>Full Frame</td><td>--</td><td>Gemini-North</td><td>True</td><td>80</td><td>False</td><td>23.421785515188</td><td>2012-02-16 15:38:59.200000</td><td>15662196</td><td>{&apos;PROCESSED_SCIENCE&apos;, &apos;PREPARED&apos;, &apos;IMAGE&apos;, &apos;NORTH&apos;, &apos;GEMINI&apos;, &apos;SIDEREAL&apos;, &apos;GMOS&apos;, &apos;PROCESSED&apos;}</td><td>100</td><td>slow</td><td>15662196</td><td>False</td><td>GN-2012A-Q-49-17</td><td>False</td><td>80</td><td>mrgN20120216S0244_add.fits.bz2</td><td>GMOS-N</td><td>PREPARED</td><td>GMOS-N</td><td>210.797916752788</td><td>2x2</td><td>2020-01-05 11:45:04.048250+00:00</td><td>g</td><td>28667520</td><td>imaging</td><td>85</td><td>1.238</td><td>53.904598611111</td><td>GN-2012A-Q-49-17-001-MRG-ADD</td><td>85</td><td>M101-southern field</td><td>80</td><td>GN-2012A-Q-49</td><td>bccf85ae0498456e33054ea34a496e36</td><td>--</td><td>50</td><td>True</td><td>g</td><td>low</td><td></td><td>science</td><td>Pass</td><td>OBJECT</td><td>False</td><td>bccf85ae0498456e33054ea34a496e36</td><td>False</td><td>mrgN20120216S0244_add.fits</td><td>Imaging</td><td>8e7414bea440a1438f6c25c8aee4ed46</td><td>50</td><td>MIRROR</td><td>OIWFS</td><td>--</td><td>Classic</td><td>--</td><td>05:38:58.200000</td><td>False</td><td>-14.230380555556</td><td>2013-08-16</td><td>54.307561057825</td></tr>\n",
       "</table>"
      ],
      "text/plain": [
       "<Table masked=True length=5>\n",
       "exposure_time detector_roi_setting ...  release         dec      \n",
       "    str32            str10         ...   str10         str32     \n",
       "------------- -------------------- ... ---------- ---------------\n",
       "     119.9986           Full Frame ... 2008-08-21  54.34877772501\n",
       "     119.9983           Full Frame ... 2008-09-25 54.376194395654\n",
       "     119.9986           Full Frame ... 2008-09-25 54.366916626746\n",
       "     119.9983           Full Frame ... 2008-09-25 54.274527402457\n",
       "      99.9983           Full Frame ... 2013-08-16 54.307561057825"
      ]
     },
     "execution_count": 9,
     "metadata": {},
     "output_type": "execute_result"
    }
   ],
   "source": [
    "coord = coordinates.SkyCoord('14h3m13s', '54d20m57s', frame='icrs')\n",
    "data = Observations.query_region(coordinates=coord, radius=0.5*units.deg)\n",
    "data[0:5]"
   ]
  },
  {
   "cell_type": "code",
   "execution_count": 4,
   "metadata": {},
   "outputs": [
    {
     "data": {
      "text/html": [
       "<i>Table masked=True length=5</i>\n",
       "<table id=\"table4716260304\" class=\"table-striped table-bordered table-condensed\">\n",
       "<thead><tr><th>exposure_time</th><th>detector_roi_setting</th><th>detector_welldepth_setting</th><th>telescope</th><th>mdready</th><th>requested_bg</th><th>engineering</th><th>cass_rotator_pa</th><th>ut_datetime</th><th>file_size</th><th>types</th><th>requested_wv</th><th>detector_readspeed_setting</th><th>size</th><th>laser_guide_star</th><th>observation_id</th><th>science_verification</th><th>raw_cc</th><th>filename</th><th>instrument</th><th>reduction</th><th>camera</th><th>ra</th><th>detector_binning</th><th>lastmod</th><th>wavelength_band</th><th>data_size</th><th>mode</th><th>raw_iq</th><th>airmass</th><th>elevation</th><th>data_label</th><th>requested_iq</th><th>object</th><th>requested_cc</th><th>program_id</th><th>file_md5</th><th>central_wavelength</th><th>raw_wv</th><th>compressed</th><th>filter_name</th><th>detector_gain_setting</th><th>path</th><th>observation_class</th><th>qa_state</th><th>observation_type</th><th>calibration_program</th><th>md5</th><th>adaptive_optics</th><th>name</th><th>focal_plane_mask</th><th>data_md5</th><th>raw_bg</th><th>disperser</th><th>wavefront_sensor</th><th>gcal_lamp</th><th>detector_readmode_setting</th><th>phot_standard</th><th>local_time</th><th>spectroscopy</th><th>azimuth</th><th>release</th><th>dec</th></tr></thead>\n",
       "<thead><tr><th>str9</th><th>str10</th><th>str4</th><th>str12</th><th>str5</th><th>str4</th><th>str5</th><th>str17</th><th>str26</th><th>str21</th><th>str99</th><th>str4</th><th>str4</th><th>str21</th><th>str5</th><th>str16</th><th>str5</th><th>str4</th><th>str23</th><th>str6</th><th>str3</th><th>str6</th><th>str16</th><th>str4</th><th>str32</th><th>str4</th><th>str21</th><th>str12</th><th>str4</th><th>str5</th><th>str15</th><th>str20</th><th>str4</th><th>str4</th><th>str4</th><th>str13</th><th>str32</th><th>str4</th><th>str4</th><th>str5</th><th>str4</th><th>str4</th><th>str1</th><th>str7</th><th>str6</th><th>str6</th><th>str5</th><th>str32</th><th>str5</th><th>str19</th><th>str14</th><th>str32</th><th>str4</th><th>str6</th><th>str5</th><th>str4</th><th>str7</th><th>str4</th><th>str15</th><th>str5</th><th>str16</th><th>str10</th><th>str15</th></tr></thead>\n",
       "<tr><td>--</td><td>Undefined</td><td>--</td><td>--</td><td>True</td><td>--</td><td>False</td><td>--</td><td>2012-06-21 00:00:00</td><td>4025</td><td>{&apos;UNPREPARED&apos;, &apos;GMOS&apos;, &apos;SPECT&apos;, &apos;RAW&apos;, &apos;GEMINI&apos;}</td><td>--</td><td>--</td><td>4025</td><td>False</td><td>--</td><td>False</td><td>--</td><td>GN2012AQ049-06.fits.bz2</td><td>GMOS-N</td><td>RAW</td><td>GMOS-N</td><td>--</td><td>--</td><td>2020-01-21 02:08:04.552420+00:00</td><td>--</td><td>20160</td><td>spectroscopy</td><td>--</td><td>--</td><td>--</td><td>GN2012AQ049-06</td><td>--</td><td>M101</td><td>--</td><td>GN-2012A-Q-49</td><td>327bdfa38c61d9f81ae213e8366347be</td><td>--</td><td>--</td><td>True</td><td>--</td><td>--</td><td></td><td>--</td><td>Pass</td><td>MASK</td><td>False</td><td>327bdfa38c61d9f81ae213e8366347be</td><td>False</td><td>GN2012AQ049-06.fits</td><td>--</td><td>ca40cee46e20dc952452004ca0cb0887</td><td>--</td><td>--</td><td>--</td><td>--</td><td>Classic</td><td>--</td><td>--</td><td>True</td><td>--</td><td>2013-12-21</td><td>--</td></tr>\n",
       "<tr><td>--</td><td>Undefined</td><td>--</td><td>--</td><td>True</td><td>--</td><td>False</td><td>--</td><td>2012-06-21 00:00:00</td><td>3836</td><td>{&apos;GEMINI&apos;, &apos;UNPREPARED&apos;, &apos;RAW&apos;, &apos;GMOS&apos;, &apos;SPECT&apos;}</td><td>--</td><td>--</td><td>3836</td><td>False</td><td>--</td><td>False</td><td>--</td><td>GN2012AQ049-07.fits.bz2</td><td>GMOS-N</td><td>RAW</td><td>GMOS-N</td><td>--</td><td>--</td><td>2020-01-21 02:08:04.494421+00:00</td><td>--</td><td>20160</td><td>spectroscopy</td><td>--</td><td>--</td><td>--</td><td>GN2012AQ049-07</td><td>--</td><td>M101</td><td>--</td><td>GN-2012A-Q-49</td><td>9ddb435ef709f9275645748a4493ea0d</td><td>--</td><td>--</td><td>True</td><td>--</td><td>--</td><td></td><td>--</td><td>Pass</td><td>MASK</td><td>False</td><td>9ddb435ef709f9275645748a4493ea0d</td><td>False</td><td>GN2012AQ049-07.fits</td><td>--</td><td>2c01c2c2f08f854993c658361bff6886</td><td>--</td><td>--</td><td>--</td><td>--</td><td>Classic</td><td>--</td><td>--</td><td>True</td><td>--</td><td>2013-12-21</td><td>--</td></tr>\n",
       "<tr><td>49.9987</td><td>Full Frame</td><td>--</td><td>Gemini-North</td><td>True</td><td>80</td><td>False</td><td>128.217694246214</td><td>2012-02-28 11:34:06.600000</td><td>16982559</td><td>{&apos;ACQUISITION&apos;, &apos;SIDEREAL&apos;, &apos;NORTH&apos;, &apos;GEMINI&apos;, &apos;UNPREPARED&apos;, &apos;RAW&apos;, &apos;IMAGE&apos;, &apos;GMOS&apos;}</td><td>100</td><td>fast</td><td>16982559</td><td>False</td><td>GN-2012A-Q-49-11</td><td>False</td><td>70</td><td>N20120228S0214.fits.bz2</td><td>GMOS-N</td><td>RAW</td><td>GMOS-N</td><td>210.809165029962</td><td>1x1</td><td>2020-01-05 10:56:27.350327+00:00</td><td>g</td><td>58472640</td><td>imaging</td><td>70</td><td>1.377</td><td>46.467354166667</td><td>GN-2012A-Q-49-11-001</td><td>70</td><td>M101</td><td>70</td><td>GN-2012A-Q-49</td><td>3d09b403243d72832c7cbf61413334e1</td><td>--</td><td>80</td><td>True</td><td>g</td><td>low</td><td></td><td>acq</td><td>Pass</td><td>OBJECT</td><td>False</td><td>3d09b403243d72832c7cbf61413334e1</td><td>False</td><td>N20120228S0214.fits</td><td>Imaging</td><td>c9ac52ba41971fda30cc1238ed67d25f</td><td>20</td><td>MIRROR</td><td>OIWFS</td><td>--</td><td>Classic</td><td>--</td><td>01:34:06.100000</td><td>False</td><td>29.235363888889</td><td>2013-08-28</td><td>54.348777039949</td></tr>\n",
       "<tr><td>49.9987</td><td>Full Frame</td><td>--</td><td>Gemini-North</td><td>True</td><td>80</td><td>False</td><td>129.720328155972</td><td>2012-02-28 11:39:00.600000</td><td>11252606</td><td>{&apos;GEMINI&apos;, &apos;MASK&apos;, &apos;GMOS&apos;, &apos;UNPREPARED&apos;, &apos;RAW&apos;, &apos;SIDEREAL&apos;, &apos;MOS&apos;, &apos;ACQUISITION&apos;, &apos;NORTH&apos;, &apos;IMAGE&apos;}</td><td>100</td><td>fast</td><td>11252606</td><td>False</td><td>GN-2012A-Q-49-11</td><td>False</td><td>70</td><td>N20120228S0215.fits.bz2</td><td>GMOS-N</td><td>RAW</td><td>GMOS-N</td><td>210.81036861879</td><td>1x1</td><td>2020-01-05 10:56:27.269328+00:00</td><td>g</td><td>58472640</td><td>imaging</td><td>70</td><td>1.364</td><td>47.024665277778</td><td>GN-2012A-Q-49-11-002</td><td>70</td><td>M101</td><td>70</td><td>GN-2012A-Q-49</td><td>ed15ca3df41830643dcf678c84f81d53</td><td>--</td><td>80</td><td>True</td><td>g</td><td>low</td><td></td><td>acq</td><td>Pass</td><td>OBJECT</td><td>False</td><td>ed15ca3df41830643dcf678c84f81d53</td><td>False</td><td>N20120228S0215.fits</td><td>GN2012AQ049-01</td><td>e30d06c4f7311b2606bb5579f35e20ec</td><td>20</td><td>MIRROR</td><td>OIWFS</td><td>--</td><td>Classic</td><td>--</td><td>01:39:00.100000</td><td>False</td><td>28.580930555556</td><td>2013-08-28</td><td>54.346975563951</td></tr>\n",
       "<tr><td>49.9989</td><td>Full Frame</td><td>--</td><td>Gemini-North</td><td>True</td><td>80</td><td>False</td><td>130.801283946304</td><td>2012-02-28 11:42:30.600000</td><td>11263521</td><td>{&apos;UNPREPARED&apos;, &apos;GEMINI&apos;, &apos;NORTH&apos;, &apos;MOS&apos;, &apos;RAW&apos;, &apos;IMAGE&apos;, &apos;MASK&apos;, &apos;GMOS&apos;, &apos;ACQUISITION&apos;, &apos;SIDEREAL&apos;}</td><td>100</td><td>fast</td><td>11263521</td><td>False</td><td>GN-2012A-Q-49-11</td><td>False</td><td>70</td><td>N20120228S0216.fits.bz2</td><td>GMOS-N</td><td>RAW</td><td>GMOS-N</td><td>210.810009916609</td><td>1x1</td><td>2020-01-05 10:56:26.953331+00:00</td><td>g</td><td>58472640</td><td>imaging</td><td>70</td><td>1.356</td><td>47.415390277778</td><td>GN-2012A-Q-49-11-003</td><td>70</td><td>M101</td><td>70</td><td>GN-2012A-Q-49</td><td>33c37f11fefa3270a7cf32b99cb00086</td><td>--</td><td>80</td><td>True</td><td>g</td><td>low</td><td></td><td>acq</td><td>Pass</td><td>OBJECT</td><td>False</td><td>33c37f11fefa3270a7cf32b99cb00086</td><td>False</td><td>N20120228S0216.fits</td><td>GN2012AQ049-01</td><td>b522f1c24d192542fb0dc547679114ac</td><td>20</td><td>MIRROR</td><td>OIWFS</td><td>--</td><td>Classic</td><td>--</td><td>01:42:30.100000</td><td>False</td><td>28.093791666667</td><td>2013-08-28</td><td>54.347048438693</td></tr>\n",
       "</table>"
      ],
      "text/plain": [
       "<Table masked=True length=5>\n",
       "exposure_time detector_roi_setting ...  release         dec      \n",
       "     str9            str10         ...   str10         str15     \n",
       "------------- -------------------- ... ---------- ---------------\n",
       "           --            Undefined ... 2013-12-21              --\n",
       "           --            Undefined ... 2013-12-21              --\n",
       "      49.9987           Full Frame ... 2013-08-28 54.348777039949\n",
       "      49.9987           Full Frame ... 2013-08-28 54.346975563951\n",
       "      49.9989           Full Frame ... 2013-08-28 54.347048438693"
      ]
     },
     "execution_count": 4,
     "metadata": {},
     "output_type": "execute_result"
    }
   ],
   "source": [
    "data = Observations.query_object(objectname='m101')\n",
    "data[0:5]"
   ]
  },
  {
   "cell_type": "code",
   "execution_count": null,
   "metadata": {},
   "outputs": [],
   "source": []
  }
 ],
 "metadata": {
  "kernelspec": {
   "display_name": "Python 3",
   "language": "python",
   "name": "python3"
  },
  "language_info": {
   "codemirror_mode": {
    "name": "ipython",
    "version": 3
   },
   "file_extension": ".py",
   "mimetype": "text/x-python",
   "name": "python",
   "nbconvert_exporter": "python",
   "pygments_lexer": "ipython3",
   "version": "3.7.5"
  }
 },
 "nbformat": 4,
 "nbformat_minor": 2
}
